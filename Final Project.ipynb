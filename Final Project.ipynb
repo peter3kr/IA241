{
 "cells": [
  {
   "cell_type": "markdown",
   "id": "92f8995d",
   "metadata": {},
   "source": [
    "# Visualizing COVID-19 Data in Egypt as of December, 2020"
   ]
  },
  {
   "cell_type": "markdown",
   "id": "f74e1b96",
   "metadata": {},
   "source": [
    "## What is COVID-19?"
   ]
  },
  {
   "cell_type": "markdown",
   "id": "78b2f798",
   "metadata": {},
   "source": [
    "According to the [Center for Disease Control and Prevention](https://www.cdc.gov/coronavirus/2019-ncov/faq.html#Basics), COVID-19 is a new coronavirus not previously seen in humans, spread primarily through respiratory droplets, with the lesser possibilities of being spread by airborne transmission and contact with contaminated surfaces. Effects range from none/mild to severe illness and possibily death, varrying in most cases but more dangerous among the elderly and immunosuppressed."
   ]
  },
  {
   "cell_type": "markdown",
   "id": "19904ac7",
   "metadata": {},
   "source": [
    "## Data Source"
   ]
  },
  {
   "cell_type": "markdown",
   "id": "01a9f589",
   "metadata": {},
   "source": [
    "The data is from the [European Centre for Disease Prevention and Control](https://www.ecdc.europa.eu/en/publications-data/download-todays-data-geographic-distribution-covid-19-cases-worldwide)"
   ]
  },
  {
   "cell_type": "code",
   "execution_count": 6,
   "id": "e1bc021b",
   "metadata": {},
   "outputs": [],
   "source": [
    "%matplotlib inline\n",
    "import pandas"
   ]
  },
  {
   "cell_type": "code",
   "execution_count": 7,
   "id": "ec0892ef",
   "metadata": {},
   "outputs": [],
   "source": [
    "df = pandas.read_excel('s3://peters-ia241-2021-spring/COVID-19-geographic-disbtribution-worldwide-2020-12-14 (2).xls')"
   ]
  },
  {
   "cell_type": "markdown",
   "id": "f2928e48",
   "metadata": {},
   "source": [
    "## An Overview of Egypt's Data"
   ]
  },
  {
   "cell_type": "code",
   "execution_count": 42,
   "id": "4da96aea",
   "metadata": {},
   "outputs": [
    {
     "data": {
      "text/html": [
       "<div>\n",
       "<style scoped>\n",
       "    .dataframe tbody tr th:only-of-type {\n",
       "        vertical-align: middle;\n",
       "    }\n",
       "\n",
       "    .dataframe tbody tr th {\n",
       "        vertical-align: top;\n",
       "    }\n",
       "\n",
       "    .dataframe thead th {\n",
       "        text-align: right;\n",
       "    }\n",
       "</style>\n",
       "<table border=\"1\" class=\"dataframe\">\n",
       "  <thead>\n",
       "    <tr style=\"text-align: right;\">\n",
       "      <th></th>\n",
       "      <th>dateRep</th>\n",
       "      <th>day</th>\n",
       "      <th>month</th>\n",
       "      <th>year</th>\n",
       "      <th>cases</th>\n",
       "      <th>deaths</th>\n",
       "      <th>countriesAndTerritories</th>\n",
       "      <th>geoId</th>\n",
       "      <th>countryterritoryCode</th>\n",
       "      <th>popData2019</th>\n",
       "      <th>continentExp</th>\n",
       "      <th>Cumulative_number_for_14_days_of_COVID-19_cases_per_100000</th>\n",
       "    </tr>\n",
       "  </thead>\n",
       "  <tbody>\n",
       "    <tr>\n",
       "      <th>17153</th>\n",
       "      <td>2020-12-14</td>\n",
       "      <td>14</td>\n",
       "      <td>12</td>\n",
       "      <td>2020</td>\n",
       "      <td>486</td>\n",
       "      <td>22</td>\n",
       "      <td>Egypt</td>\n",
       "      <td>EG</td>\n",
       "      <td>EGY</td>\n",
       "      <td>100388076.0</td>\n",
       "      <td>Africa</td>\n",
       "      <td>6.010674</td>\n",
       "    </tr>\n",
       "    <tr>\n",
       "      <th>17154</th>\n",
       "      <td>2020-12-13</td>\n",
       "      <td>13</td>\n",
       "      <td>12</td>\n",
       "      <td>2020</td>\n",
       "      <td>478</td>\n",
       "      <td>21</td>\n",
       "      <td>Egypt</td>\n",
       "      <td>EG</td>\n",
       "      <td>EGY</td>\n",
       "      <td>100388076.0</td>\n",
       "      <td>Africa</td>\n",
       "      <td>5.883169</td>\n",
       "    </tr>\n",
       "    <tr>\n",
       "      <th>17155</th>\n",
       "      <td>2020-12-12</td>\n",
       "      <td>12</td>\n",
       "      <td>12</td>\n",
       "      <td>2020</td>\n",
       "      <td>464</td>\n",
       "      <td>23</td>\n",
       "      <td>Egypt</td>\n",
       "      <td>EG</td>\n",
       "      <td>EGY</td>\n",
       "      <td>100388076.0</td>\n",
       "      <td>Africa</td>\n",
       "      <td>5.756660</td>\n",
       "    </tr>\n",
       "    <tr>\n",
       "      <th>17156</th>\n",
       "      <td>2020-12-11</td>\n",
       "      <td>11</td>\n",
       "      <td>12</td>\n",
       "      <td>2020</td>\n",
       "      <td>445</td>\n",
       "      <td>22</td>\n",
       "      <td>Egypt</td>\n",
       "      <td>EG</td>\n",
       "      <td>EGY</td>\n",
       "      <td>100388076.0</td>\n",
       "      <td>Africa</td>\n",
       "      <td>5.650073</td>\n",
       "    </tr>\n",
       "    <tr>\n",
       "      <th>17157</th>\n",
       "      <td>2020-12-10</td>\n",
       "      <td>10</td>\n",
       "      <td>12</td>\n",
       "      <td>2020</td>\n",
       "      <td>421</td>\n",
       "      <td>19</td>\n",
       "      <td>Egypt</td>\n",
       "      <td>EG</td>\n",
       "      <td>EGY</td>\n",
       "      <td>100388076.0</td>\n",
       "      <td>Africa</td>\n",
       "      <td>5.573371</td>\n",
       "    </tr>\n",
       "    <tr>\n",
       "      <th>17158</th>\n",
       "      <td>2020-12-09</td>\n",
       "      <td>9</td>\n",
       "      <td>12</td>\n",
       "      <td>2020</td>\n",
       "      <td>434</td>\n",
       "      <td>23</td>\n",
       "      <td>Egypt</td>\n",
       "      <td>EG</td>\n",
       "      <td>EGY</td>\n",
       "      <td>100388076.0</td>\n",
       "      <td>Africa</td>\n",
       "      <td>5.517588</td>\n",
       "    </tr>\n",
       "    <tr>\n",
       "      <th>17159</th>\n",
       "      <td>2020-12-08</td>\n",
       "      <td>8</td>\n",
       "      <td>12</td>\n",
       "      <td>2020</td>\n",
       "      <td>415</td>\n",
       "      <td>19</td>\n",
       "      <td>Egypt</td>\n",
       "      <td>EG</td>\n",
       "      <td>EGY</td>\n",
       "      <td>100388076.0</td>\n",
       "      <td>Africa</td>\n",
       "      <td>5.444870</td>\n",
       "    </tr>\n",
       "    <tr>\n",
       "      <th>17160</th>\n",
       "      <td>2020-12-07</td>\n",
       "      <td>7</td>\n",
       "      <td>12</td>\n",
       "      <td>2020</td>\n",
       "      <td>418</td>\n",
       "      <td>21</td>\n",
       "      <td>Egypt</td>\n",
       "      <td>EG</td>\n",
       "      <td>EGY</td>\n",
       "      <td>100388076.0</td>\n",
       "      <td>Africa</td>\n",
       "      <td>5.384106</td>\n",
       "    </tr>\n",
       "    <tr>\n",
       "      <th>17161</th>\n",
       "      <td>2020-12-06</td>\n",
       "      <td>6</td>\n",
       "      <td>12</td>\n",
       "      <td>2020</td>\n",
       "      <td>431</td>\n",
       "      <td>18</td>\n",
       "      <td>Egypt</td>\n",
       "      <td>EG</td>\n",
       "      <td>EGY</td>\n",
       "      <td>100388076.0</td>\n",
       "      <td>Africa</td>\n",
       "      <td>5.317365</td>\n",
       "    </tr>\n",
       "    <tr>\n",
       "      <th>17162</th>\n",
       "      <td>2020-12-05</td>\n",
       "      <td>5</td>\n",
       "      <td>12</td>\n",
       "      <td>2020</td>\n",
       "      <td>427</td>\n",
       "      <td>19</td>\n",
       "      <td>Egypt</td>\n",
       "      <td>EG</td>\n",
       "      <td>EGY</td>\n",
       "      <td>100388076.0</td>\n",
       "      <td>Africa</td>\n",
       "      <td>5.244647</td>\n",
       "    </tr>\n",
       "  </tbody>\n",
       "</table>\n",
       "</div>"
      ],
      "text/plain": [
       "         dateRep  day  month  year  cases  deaths countriesAndTerritories  \\\n",
       "17153 2020-12-14   14     12  2020    486      22                   Egypt   \n",
       "17154 2020-12-13   13     12  2020    478      21                   Egypt   \n",
       "17155 2020-12-12   12     12  2020    464      23                   Egypt   \n",
       "17156 2020-12-11   11     12  2020    445      22                   Egypt   \n",
       "17157 2020-12-10   10     12  2020    421      19                   Egypt   \n",
       "17158 2020-12-09    9     12  2020    434      23                   Egypt   \n",
       "17159 2020-12-08    8     12  2020    415      19                   Egypt   \n",
       "17160 2020-12-07    7     12  2020    418      21                   Egypt   \n",
       "17161 2020-12-06    6     12  2020    431      18                   Egypt   \n",
       "17162 2020-12-05    5     12  2020    427      19                   Egypt   \n",
       "\n",
       "      geoId countryterritoryCode  popData2019 continentExp  \\\n",
       "17153    EG                  EGY  100388076.0       Africa   \n",
       "17154    EG                  EGY  100388076.0       Africa   \n",
       "17155    EG                  EGY  100388076.0       Africa   \n",
       "17156    EG                  EGY  100388076.0       Africa   \n",
       "17157    EG                  EGY  100388076.0       Africa   \n",
       "17158    EG                  EGY  100388076.0       Africa   \n",
       "17159    EG                  EGY  100388076.0       Africa   \n",
       "17160    EG                  EGY  100388076.0       Africa   \n",
       "17161    EG                  EGY  100388076.0       Africa   \n",
       "17162    EG                  EGY  100388076.0       Africa   \n",
       "\n",
       "       Cumulative_number_for_14_days_of_COVID-19_cases_per_100000  \n",
       "17153                                           6.010674           \n",
       "17154                                           5.883169           \n",
       "17155                                           5.756660           \n",
       "17156                                           5.650073           \n",
       "17157                                           5.573371           \n",
       "17158                                           5.517588           \n",
       "17159                                           5.444870           \n",
       "17160                                           5.384106           \n",
       "17161                                           5.317365           \n",
       "17162                                           5.244647           "
      ]
     },
     "execution_count": 42,
     "metadata": {},
     "output_type": "execute_result"
    }
   ],
   "source": [
    "egy_data = df.loc[df['countriesAndTerritories'] == 'Egypt']\n",
    "egy_data[:10] #the top 10 rows"
   ]
  },
  {
   "cell_type": "markdown",
   "id": "21caf6b6",
   "metadata": {},
   "source": [
    "At this point in time, Egypt was averaging cases in the 400s-per-day, while suffering deaths from COVID-19 cases between 18-23 each day."
   ]
  },
  {
   "cell_type": "markdown",
   "id": "2456d3f2",
   "metadata": {},
   "source": [
    "## COVID-19 Cases and Deaths by Month"
   ]
  },
  {
   "cell_type": "code",
   "execution_count": 13,
   "id": "0e6f8d66",
   "metadata": {},
   "outputs": [
    {
     "data": {
      "text/plain": [
       "<AxesSubplot:xlabel='cases', ylabel='deaths'>"
      ]
     },
     "execution_count": 13,
     "metadata": {},
     "output_type": "execute_result"
    },
    {
     "data": {
      "image/png": "[encoded data removed]",
      "text/plain": [
       "<Figure size 432x288 with 2 Axes>"
      ]
     },
     "metadata": {
      "needs_background": "light"
     },
     "output_type": "display_data"
    }
   ],
   "source": [
    "egy_data.plot.scatter(x='cases',y='deaths',c='month')"
   ]
  },
  {
   "cell_type": "markdown",
   "id": "a44b6005",
   "metadata": {},
   "source": [
    "Here we can see the rising total number of cases and deaths from COVID-19 through the year 2020 in Egypt."
   ]
  },
  {
   "cell_type": "markdown",
   "id": "2178d0d6",
   "metadata": {},
   "source": [
    "## Number of COVID-19 cases in Egypt as of December, 2020"
   ]
  },
  {
   "cell_type": "code",
   "execution_count": 79,
   "id": "c63eade9",
   "metadata": {
    "scrolled": true
   },
   "outputs": [
    {
     "name": "stdout",
     "output_type": "stream",
     "text": [
      "As of December, 2020, the total number of COVID-19 cases, in egypt was 121575. This number includes those who had active cases, those who had recovered, and those who had died.\n"
     ]
    }
   ],
   "source": [
    "egy_data['cases'].sum()\n",
    "print('As of December, 2020, the total number of COVID-19 cases, in egypt was {}. This number includes those who had active cases, those who had recovered, and those who had died.'.format(egy_data['cases'].sum()))"
   ]
  },
  {
   "cell_type": "markdown",
   "id": "19242037",
   "metadata": {},
   "source": [
    "## Deaths in Egypt from COVID-19 as of December, 2020"
   ]
  },
  {
   "cell_type": "code",
   "execution_count": 74,
   "id": "679a972d",
   "metadata": {},
   "outputs": [
    {
     "name": "stdout",
     "output_type": "stream",
     "text": [
      "As of December 2020, the total number of deaths resulting from COVID-19 cases in Egypt is 6920.\n"
     ]
    }
   ],
   "source": [
    "egy_data['deaths'].sum()\n",
    "print('As of December 2020, the total number of deaths resulting from COVID-19 cases in Egypt is {}.'.format(egy_data['deaths'].sum()))"
   ]
  },
  {
   "cell_type": "markdown",
   "id": "225d4afe",
   "metadata": {},
   "source": [
    "## Ratio of Recoveries from COVID-19 to Deaths from COVID-19 in Egypt as of December, 2020"
   ]
  },
  {
   "cell_type": "code",
   "execution_count": 81,
   "id": "17956bec",
   "metadata": {},
   "outputs": [
    {
     "name": "stdout",
     "output_type": "stream",
     "text": [
      "As of December 2020, the ratio of recoveries to deaths from COVID-19 cases in Egypt is 17.56864161849711:1. This means that for about every 18th person recovering from their COVID-19 illness in Egypt, one person dies from theirs.\n"
     ]
    }
   ],
   "source": [
    "print('As of December 2020, the ratio of recoveries to deaths from COVID-19 cases in Egypt is {}:1. This means that for about every 18th person recovering from their COVID-19 illness in Egypt, one person dies from theirs.'.format(egy_data['cases'].sum()/egy_data['deaths'].sum()))"
   ]
  },
  {
   "cell_type": "markdown",
   "id": "d3c5b5c7",
   "metadata": {},
   "source": [
    "## Comparison of Cases and Deaths from COVID-19 in Egypt"
   ]
  },
  {
   "cell_type": "code",
   "execution_count": 77,
   "id": "1ed90ecc",
   "metadata": {},
   "outputs": [
    {
     "data": {
      "text/plain": [
       "<AxesSubplot:xlabel='deaths'>"
      ]
     },
     "execution_count": 77,
     "metadata": {},
     "output_type": "execute_result"
    },
    {
     "data": {
      "image/png": "[encoded data removed]",
      "text/plain": [
       "<Figure size 432x288 with 1 Axes>"
      ]
     },
     "metadata": {
      "needs_background": "light"
     },
     "output_type": "display_data"
    }
   ],
   "source": [
    "egy_data.plot.bar(x='deaths',y='cases')"
   ]
  },
  {
   "cell_type": "markdown",
   "id": "e82b27a1",
   "metadata": {},
   "source": [
    "Here, the rising ratio of illness to deaths can be seen peaking in the summer and autumn months of 2020, as both rates drop dramatically before December 2020 to hundreds of cases and dozens of deaths at a time, as oppossed to the thousands of cases and hundreds of deaths it had been before."
   ]
  },
  {
   "cell_type": "markdown",
   "id": "4277aa49",
   "metadata": {},
   "source": [
    "## Conclusions and Limitations"
   ]
  },
  {
   "cell_type": "markdown",
   "id": "2c1c6105",
   "metadata": {},
   "source": [
    "While Egypt is far from the top 10 list in terms of worse countries suffering from COVID-19, the prevelance of COVID-19 in Egypt is still severe. Furthermore, this data is outdated, as Egypt has now topped 230,000 total cases as of May, 2021, a significant increase from the data shown here. This study is limited by the data, as the data used was from December of 2020, several months ago. For this project to be improved, more recent data would help significantly. "
   ]
  },
  {
   "cell_type": "code",
   "execution_count": null,
   "id": "db90d20f",
   "metadata": {},
   "outputs": [],
   "source": []
  }
 ],
 "metadata": {
  "kernelspec": {
   "display_name": "conda_python3",
   "language": "python",
   "name": "conda_python3"
  },
  "language_info": {
   "codemirror_mode": {
    "name": "ipython",
    "version": 3
   },
   "file_extension": ".py",
   "mimetype": "text/x-python",
   "name": "python",
   "nbconvert_exporter": "python",
   "pygments_lexer": "ipython3",
   "version": "3.6.13"
  }
 },
 "nbformat": 4,
 "nbformat_minor": 5
}
